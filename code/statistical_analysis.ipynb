{
 "cells": [
  {
   "cell_type": "code",
   "execution_count": 1,
   "metadata": {
    "collapsed": false
   },
   "outputs": [],
   "source": [
    "import numpy as np\n",
    "import math\n",
    "from scipy.stats import chisquare\n",
    "from collections import Counter\n",
    "import DataProcessing as dp"
   ]
  },
  {
   "cell_type": "code",
   "execution_count": 2,
   "metadata": {
    "collapsed": false
   },
   "outputs": [
    {
     "name": "stdout",
     "output_type": "stream",
     "text": [
      "Number of Readers in data set: 1065\n"
     ]
    }
   ],
   "source": [
    "# Load the Readers data set\n",
    "from GR_Data import User\n",
    "\n",
    "users_data = 'C:/docs/goodreads/data/users.txt'\n",
    "ratings_data = 'C:/docs/goodreads/data/ratings.txt'\n",
    "\n",
    "readers = User.load_users(users_data, ratings_data)\n",
    "print('Number of Readers in data set: ' + str(len(readers)))"
   ]
  },
  {
   "cell_type": "code",
   "execution_count": 3,
   "metadata": {
    "collapsed": false
   },
   "outputs": [],
   "source": [
    "# Generate a list of the distinct books rated across readers\n",
    "\n",
    "library = set()\n",
    "\n",
    "for reader in readers:\n",
    "    for title in reader.books:\n",
    "        library.add(title[0])\n",
    "        \n",
    "# Change Fiction to General Fiction\n",
    "for title in library:\n",
    "    if title.genre == 'Fiction':\n",
    "        title.genre = 'General Fiction'"
   ]
  },
  {
   "cell_type": "code",
   "execution_count": 4,
   "metadata": {
    "collapsed": false
   },
   "outputs": [
    {
     "name": "stdout",
     "output_type": "stream",
     "text": [
      "[ 0.02907171  0.02128624  0.03024064  0.0198772   0.01209605  0.02503477\n",
      "  0.02507449]\n",
      "[ 0.01430627  0.01297633  0.01219064  0.01287864  0.01086629  0.01291104\n",
      "  0.01283782]\n"
     ]
    }
   ],
   "source": [
    "# Calculate the standard error of Reader genre consumption estimation\n",
    "se_matrix = []\n",
    "\n",
    "for reader in readers:\n",
    "    se = []\n",
    "    n = len(reader.samples)\n",
    "    for genre in dp.genres:\n",
    "        p = reader.fiction_split_s[genre]\n",
    "        se.append(math.sqrt( (p * (1 - p ) ) / n ))\n",
    "    se_matrix.append(se)\n",
    "se_matrix = np.array(se_matrix)\n",
    "standard_error = se_matrix.mean(axis=0)\n",
    "standard_deviation = se_matrix.std(axis=0)\n",
    "print(standard_error)\n",
    "print(standard_deviation)"
   ]
  },
  {
   "cell_type": "code",
   "execution_count": 9,
   "metadata": {
    "collapsed": false
   },
   "outputs": [
    {
     "name": "stdout",
     "output_type": "stream",
     "text": [
      "mean standard error: 0.0232401577065\n",
      "mean standard error deviation 0.0127095740504\n"
     ]
    }
   ],
   "source": [
    "print('mean standard error: ' + str(standard_error.mean()))\n",
    "print('mean standard error deviation ' + str(standard_deviation.mean()))"
   ]
  },
  {
   "cell_type": "markdown",
   "metadata": {},
   "source": [
    "### Significanc testing for differences in genre consumption within groups\n",
    "\n",
    "__null hypothesis:__ Readers within each group randomly select genres to read. The observed frequencies reflect natural sampling fluctation.\n",
    "\n",
    "__alternative hypothesis:__ Readers are not randomly selecting genres to read. Readers are showing genre preference.\n",
    "               \n"
   ]
  },
  {
   "cell_type": "code",
   "execution_count": 33,
   "metadata": {
    "collapsed": false
   },
   "outputs": [
    {
     "name": "stdout",
     "output_type": "stream",
     "text": [
      "{'General Fiction': Power_divergenceResult(statistic=126.97569155269439, pvalue=5.5668442796046592e-25), 'Romance': Power_divergenceResult(statistic=97.951143426381989, pvalue=6.7117976737344926e-19), 'Fantasy': Power_divergenceResult(statistic=107.72128751302724, pvalue=6.113018397861703e-21), 'Science Fiction': Power_divergenceResult(statistic=125.0967580045569, pvalue=1.3831543077918578e-24), 'Horror': Power_divergenceResult(statistic=51.452148816976155, pvalue=2.4030111360643686e-09), 'Mystery': Power_divergenceResult(statistic=74.645827860117464, pvalue=4.539908435456227e-14), 'Young Adult': Power_divergenceResult(statistic=124.86646934095162, pvalue=1.5463305440250079e-24)}\n"
     ]
    }
   ],
   "source": [
    "# Chi square test\n",
    "\n",
    "# Get a list of readers by genre preference\n",
    "readers_by_genre = dp.div_by_genre(readers)\n",
    "\n",
    "# Tally the observed frequencies within each group\n",
    "genre_frequency = {}\n",
    "\n",
    "for genre in genres:\n",
    "    total_counts = Counter()\n",
    "    for reader in readers_by_genre[genre]:\n",
    "        total_counts += reader.genre_split_s\n",
    "    genre_frequency[genre] = np.array([total_counts[genre] for genre in genres], dtype=int)\n",
    "    \n",
    "# Tally the total number of titles rated by each group\n",
    "group_totals = {}\n",
    "\n",
    "for genre in genres:\n",
    "    # Subtract titles with unknown genre\n",
    "    group_totals[genre] = sum(genre_frequency[genre])\n",
    "\n",
    "# Calculate the expected values of each group given the null hypothesis\n",
    "\n",
    "library_cnt = Counter() \n",
    "for title in library:\n",
    "    library_cnt[title.genre] += 1\n",
    "    \n",
    "lib_proportions = []\n",
    "lib_total = sum(library_cnt.values()) - library_cnt['none']\n",
    "\n",
    "for genre in genres:\n",
    "    lib_proportions.append( library_cnt[genre] / lib_total )\n",
    "lib_proportions = np.array(lib_proportions)\n",
    "\n",
    "expected_values = {}\n",
    "\n",
    "for genre in genres:\n",
    "    expected_values[genre] = np.array(lib_proportions * group_totals[genre], dtype=int)\n",
    "    \n",
    "# Chi square test\n",
    "\n",
    "results = {}\n",
    "\n",
    "for genre in genres:\n",
    "    results[genre] = chisquare(genre_frequency[genre], f_exp=expected_values[genre])\n",
    "\n",
    "print(results)"
   ]
  }
 ],
 "metadata": {
  "kernelspec": {
   "display_name": "Python 3",
   "language": "python",
   "name": "python3"
  },
  "language_info": {
   "codemirror_mode": {
    "name": "ipython",
    "version": 3
   },
   "file_extension": ".py",
   "mimetype": "text/x-python",
   "name": "python",
   "nbconvert_exporter": "python",
   "pygments_lexer": "ipython3",
   "version": "3.6.0"
  }
 },
 "nbformat": 4,
 "nbformat_minor": 2
}
